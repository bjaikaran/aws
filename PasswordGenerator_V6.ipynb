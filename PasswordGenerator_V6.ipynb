{
 "cells": [
  {
   "cell_type": "code",
   "execution_count": 18,
   "metadata": {},
   "outputs": [],
   "source": [
    "\"\"\"\n",
    "This application creates strong, random passwords to the length specified by the user(s).\n",
    "\"\"\"\n",
    "# Dependencies\n",
    "import random as rnd\n",
    "import pandas as pd\n",
    "import numpy as np\n",
    "\n",
    "# Creating lists to store user input future enhancements.\n",
    "YES_D = [\"YES\",\"YE\",\"Y\",\"1\"]\n",
    "NO_D=[\"NO\",\"N\",\"0\"]\n",
    "\n",
    "# Establishes password character lists\n",
    "ALPHA_UP = [\"A\", \"B\", \"C\", \"D\", \"E\", \"F\", \"G\", \"H\",\n",
    "            \"I\", \"J\", \"K\", \"L\", \"M\", \"N\", \"O\", \"P\",\n",
    "            \"Q\", \"R\", \"S\", \"T\", \"U\", \"V\", \"W\", \"X\",\n",
    "            \"Y\", \"Z\"]\n",
    "ALPHA_LW = [\"a\", \"b\", \"c\", \"d\", \"e\", \"f\", \"g\", \"h\",\n",
    "            \"i\", \"j\", \"k\", \"l\", \"m\", \"n\", \"o\", \"p\",\n",
    "            \"q\", \"r\", \"s\", \"t\", \"u\", \"v\", \"w\", \"x\",\n",
    "            \"y\", \"z\"]\n",
    "NUMERIC = [\"0\", \"1\", \"2\", \"3\", \"4\", \"5\", \"6\", \"7\", \"8\", \"9\"]\n",
    "SPECIAL = [\"!\", \"@\", \"#\", \"$\", \"_\", \"=\", \"<\", \">\", \"%\"]\n",
    "PW_FOUR=[0,0,0,0]\n",
    "NO_PASSWORDS = []"
   ]
  },
  {
   "cell_type": "code",
   "execution_count": 19,
   "metadata": {},
   "outputs": [],
   "source": [
    "PW_W = \"password.txt\"\n",
    "try:\n",
    "    PASSWORD_LEN = int(input(\"Enter a value for the length of your password: \"))\n",
    "except ValueError:\n",
    "    print(\"VALUE MUST BE AN INTEGER GREATER THAN 0\")\n",
    "    PASSWORD_LEN = int(input(\"Enter a value for the length of your password: \"))\n",
    "PW_W = \"password.txt\"\n",
    "try:\n",
    "    TOTAL_PASSWORDS = int(input(\"Number of passwords to generate: \"))\n",
    "except ValueError:\n",
    "    print(\"VALUE MUST BE AN INTEGER GREATER THAN 0\")\n",
    "    TOTAL_PASSWORDS = int(input(\"Number of passwords to generate: \"))    \n"
   ]
  },
  {
   "cell_type": "code",
   "execution_count": 20,
   "metadata": {},
   "outputs": [],
   "source": [
    "RAND_PW = PASSWORD_LEN - 4\n",
    "PW_TAIL = [[0] * PASSWORD_LEN for i in range(RAND_PW)]"
   ]
  },
  {
   "cell_type": "code",
   "execution_count": 21,
   "metadata": {},
   "outputs": [],
   "source": [
    "for item in range(TOTAL_PASSWORDS):\n",
    "    # Establishing the first 4 charcters of a password\n",
    "    for i in range(0,3):\n",
    "        char = rnd.randint(1, 3)\n",
    "        if char == 1:\n",
    "            PH = rnd.choice(ALPHA_UP)\n",
    "        elif char == 2:\n",
    "            PH = rnd.choice(ALPHA_LW)\n",
    "        else:\n",
    "            PH = rnd.choice(NUMERIC)\n",
    "        PW_FOUR[i] = str(PH)\n",
    "\n",
    "    PW_HEAD=str(PW_FOUR[0])+str(PW_FOUR[1])+str(PW_FOUR[2])+str(PW_FOUR[3])\n",
    "\n",
    "    for i in range(RAND_PW):\n",
    "        char = rnd.randint(1, 4)\n",
    "        if char == 1:\n",
    "            pw = rnd.choice(ALPHA_UP)\n",
    "        elif char == 2:\n",
    "            pw = rnd.choice(ALPHA_LW)\n",
    "        elif char == 3:\n",
    "            pw = rnd.choice(NUMERIC)\n",
    "        else:\n",
    "            pw = rnd.choice(SPECIAL)\n",
    "        PW_TAIL[i] = pw\n",
    "\n",
    "    BUFFER = \"_\" * PASSWORD_LEN\n",
    "    PSWD_GEN = PW_HEAD+\"\".join(PW_TAIL)\n",
    "    #print(BUFFER + \"\\n\")\n",
    "    #print(PSWD_GEN)\n",
    "    NO_PASSWORDS.append(PSWD_GEN)"
   ]
  },
  {
   "cell_type": "code",
   "execution_count": 22,
   "metadata": {},
   "outputs": [],
   "source": [
    "PASS_OUT = pd.DataFrame(np.column_stack([NO_PASSWORDS]),columns=[{\"ID\",\"Passwords\"}])\n",
    "#PASS_OUT"
   ]
  },
  {
   "cell_type": "code",
   "execution_count": 24,
   "metadata": {},
   "outputs": [
    {
     "name": "stdout",
     "output_type": "stream",
     "text": [
      "hN10H_ODZH3ZN4xj%#2EG6Q3Su17d$\n"
     ]
    }
   ],
   "source": [
    "#Creating a loop that will ask the user to save the password, if they decline\n",
    "# the application will not save the password and close.\n",
    "CHK = 0\n",
    "while CHK == 0:\n",
    "    USER_RESPONSE=input(\"Would you like to save your password to file? \").upper() or \"YES\"\n",
    "    if USER_RESPONSE in YES_D:\n",
    "        try:\n",
    "            print(\"Please enter a filename or leave blank for the default filename.\")\n",
    "            FILE_NAME= str(input()) or \"password.txt\"\n",
    "            FILE_NAME=str(FILE_NAME).replace(\".txt\",\"\")+\".txt\"\n",
    "        except ValueError:\n",
    "            FILE_NAME=\"password.txt\"\n",
    "            CHK = CHK + 1\n",
    "        F = open(FILE_NAME, \"w+\")\n",
    "        F.write(PSWD_GEN)\n",
    "        F.close()\n",
    "        if len(NO_PASSWORDS) > 1:\n",
    "            PASS_OUT.to_csv(str(FILE_NAME).replace(\".txt\",\"\")+\".csv\", index_label=\"ID\",encoding=\"Latin-1\")\n",
    "        CHK = CHK + 1\n",
    "    elif USER_RESPONSE in NO_D:\n",
    "        CHK = CHK + 1\n",
    "        exit()\n",
    "    else:\n",
    "        print(\"That was not a valid entry, please enter [y/n]\")\n",
    "        \n",
    "print(PSWD_GEN)"
   ]
  },
  {
   "cell_type": "code",
   "execution_count": null,
   "metadata": {},
   "outputs": [],
   "source": []
  }
 ],
 "metadata": {
  "kernelspec": {
   "display_name": "Python 3",
   "language": "python",
   "name": "python3"
  },
  "language_info": {
   "codemirror_mode": {
    "name": "ipython",
    "version": 3
   },
   "file_extension": ".py",
   "mimetype": "text/x-python",
   "name": "python",
   "nbconvert_exporter": "python",
   "pygments_lexer": "ipython3",
   "version": "3.6.5"
  }
 },
 "nbformat": 4,
 "nbformat_minor": 2
}
